{
 "cells": [
  {
   "cell_type": "markdown",
   "id": "70a719e4-d6ed-4242-a672-3d97fca78762",
   "metadata": {},
   "source": [
    "# walkthrough sample notebook"
   ]
  },
  {
   "cell_type": "markdown",
   "id": "5df08faa-a644-497a-b57b-43848116dcdd",
   "metadata": {},
   "source": [
    "###### Here how i calculate 1 + 1:"
   ]
  },
  {
   "cell_type": "code",
   "execution_count": 1,
   "id": "0489e7d9-8778-4cf9-bcf2-88676400a5be",
   "metadata": {},
   "outputs": [
    {
     "data": {
      "text/plain": [
       "2"
      ]
     },
     "execution_count": 1,
     "metadata": {},
     "output_type": "execute_result"
    }
   ],
   "source": [
    "1 + 1"
   ]
  },
  {
   "cell_type": "code",
   "execution_count": 3,
   "id": "ecbb5d19-2d10-4605-b842-3bc9a059b02e",
   "metadata": {},
   "outputs": [],
   "source": [
    "from numpy import *"
   ]
  },
  {
   "cell_type": "markdown",
   "id": "8733c3f5-baf5-488b-87a3-f09fbfac7ae3",
   "metadata": {},
   "source": [
    "Here hiw i calculate sin:"
   ]
  },
  {
   "cell_type": "code",
   "execution_count": 4,
   "id": "e7914f59-2147-4d50-85ca-7e11a508352a",
   "metadata": {},
   "outputs": [
    {
     "data": {
      "text/plain": [
       "array([0.84147098, 1.        ])"
      ]
     },
     "execution_count": 4,
     "metadata": {},
     "output_type": "execute_result"
    }
   ],
   "source": [
    "a = array([1.0, pi/2])\n",
    "sin(a)"
   ]
  },
  {
   "cell_type": "code",
   "execution_count": null,
   "id": "3169617e-686a-4fda-8134-5ebabef0ccad",
   "metadata": {},
   "outputs": [],
   "source": []
  }
 ],
 "metadata": {
  "kernelspec": {
   "display_name": "Python 3 (ipykernel)",
   "language": "python",
   "name": "python3"
  },
  "language_info": {
   "codemirror_mode": {
    "name": "ipython",
    "version": 3
   },
   "file_extension": ".py",
   "mimetype": "text/x-python",
   "name": "python",
   "nbconvert_exporter": "python",
   "pygments_lexer": "ipython3",
   "version": "3.10.12"
  }
 },
 "nbformat": 4,
 "nbformat_minor": 5
}
